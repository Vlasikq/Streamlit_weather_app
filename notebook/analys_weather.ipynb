{
  "cells": [
    {
      "cell_type": "markdown",
      "metadata": {
        "id": "bVbHQbDDjw9i"
      },
      "source": [
        "## ДЗ 1 (ОБЯЗАТЕЛЬНОЕ): Анализ температурных данных и мониторинг текущей температуры через OpenWeatherMap API\n",
        "\n",
        "**Описание задания:**  \n",
        "Вы аналитик в компании, занимающейся изучением климатических изменений и мониторингом температур в разных городах. Вам нужно провести анализ исторических данных о температуре для выявления сезонных закономерностей и аномалий. Также необходимо подключить API OpenWeatherMap для получения текущей температуры в выбранных городах и сравнить её с историческими данными.\n",
        "\n",
        "\n",
        "### Цели задания:\n",
        "1. Провести **анализ временных рядов**, включая:\n",
        "   - Вычисление скользящего среднего и стандартного отклонения для сглаживания температурных колебаний.\n",
        "   - Определение аномалий на основе отклонений температуры от $ \\text{скользящее среднее} \\pm 2\\sigma $.\n",
        "   - Построение долгосрочных трендов изменения температуры.\n",
        "   - Любые дополнительные исследования будут вам в плюс.\n",
        "\n",
        "2. Осуществить **мониторинг текущей температуры**:\n",
        "   - Получить текущую температуру через OpenWeatherMap API.\n",
        "   - Сравнить её с историческим нормальным диапазоном для текущего сезона.\n",
        "\n",
        "3. Разработать **интерактивное приложение**:\n",
        "   - Дать пользователю возможность выбрать город.\n",
        "   - Отобразить результаты анализа температур, включая временные ряды, сезонные профили и аномалии.\n",
        "   - Провести анализ текущей температуры в контексте исторических данных.\n",
        "\n",
        "\n",
        "### Описание данных\n",
        "Исторические данные о температуре содержатся в файле `temperature_data.csv`, включают:\n",
        "  - `city`: Название города.\n",
        "  - `timestamp`: Дата (с шагом в 1 день).\n",
        "  - `temperature`: Среднесуточная температура (в °C).\n",
        "  - `season`: Сезон года (зима, весна, лето, осень).\n",
        "\n",
        "Код для генерации файла вы найдете ниже.\n",
        "\n",
        "### Этапы выполнения\n",
        "\n",
        "1. **Анализ исторических данных**:\n",
        "   - Вычислить **скользящее среднее** температуры с окном в 30 дней для сглаживания краткосрочных колебаний.\n",
        "   - Рассчитать среднюю температуру и стандартное отклонение для каждого сезона в каждом городе.\n",
        "   - Выявить аномалии, где температура выходит за пределы $ \\text{среднее} \\pm 2\\sigma $.\n",
        "   - Попробуйте распараллелить проведение этого анализа. Сравните скорость выполнения анализа с распараллеливанием и без него.\n",
        "\n",
        "2. **Мониторинг текущей температуры**:\n",
        "   - Подключить OpenWeatherMap API для получения текущей температуры города. Для получения API Key (бесплатно) надо зарегистрироваться на сайте. Обратите внимание, что API Key может активироваться только через 2-3 часа, это нормально. Посему получите ключ заранее.\n",
        "   - Получить текущую температуру для выбранного города через OpenWeatherMap API.\n",
        "   - Определить, является ли текущая температура нормальной, исходя из исторических данных для текущего сезона.\n",
        "   - Данные на самом деле не совсем реальные (сюрпрайз). Поэтому на момент эксперимента погода в Берлине, Каире и Дубае была в рамках нормы, а в Пекине и Москве аномальная. Протестируйте свое решение для разных городов.\n",
        "   - Попробуйте для получения текущей температуры использовать синхронные и асинхронные методы. Что здесь лучше использовать?\n",
        "\n",
        "3. **Создание приложения на Streamlit**:\n",
        "   - Добавить интерфейс для загрузки файла с историческими данными.\n",
        "   - Добавить интерфейс для выбора города (из выпадающего списка).\n",
        "   - Добавить форму для ввода API-ключа OpenWeatherMap. Когда он не введен, данные для текущей погоды не показываются. Если ключ некорректный, выведите на экран ошибку (должно приходить `{\"cod\":401, \"message\": \"Invalid API key. Please see https://openweathermap.org/faq#error401 for more info.\"}`).\n",
        "   - Отобразить:\n",
        "     - Описательную статистику по историческим данным для города, можно добавить визуализации.\n",
        "     - Временной ряд температур с выделением аномалий (например, точками другого цвета).\n",
        "     - Сезонные профили с указанием среднего и стандартного отклонения.\n",
        "   - Вывести текущую температуру через API и указать, нормальна ли она для сезона.\n",
        "\n",
        "### Критерии оценивания\n",
        "\n",
        "- Корректное проведение анализа данных – 1 балл.\n",
        "- Исследование распараллеливания анализа – 1 балл.\n",
        "- Корректный поиск аномалий – 1 балл.\n",
        "- Подключение к API и корректность выполнения запроса – 1 балл.\n",
        "- Проведение эксперимента с синхронным и асинхронным способом запроса к API – 1 балл.\n",
        "- Создание интерфейса приложения streamlit в соответствии с описанием – 3 балла.\n",
        "- Корректное отображение графиков и статистик, а также сезонных профилей – 1 балл.\n",
        "- Корректный вывод текущей температуры в выбранном городе и проведение проверки на ее аномальность – 1 балл.\n",
        "- Любая дополнительная функциональность приветствуется и оценивается бонусными баллами (не более 2 в сумме) на усмотрение проверяющего.\n",
        "\n",
        "### Формат сдачи домашнего задания\n",
        "\n",
        "Решение нужно развернуть в Streamlit Cloud (бесплатно)\n",
        "\n",
        "*   Создаем новый репозиторий на GitHub.  \n",
        "*   Загружаем проект.\n",
        "*   Создаем аккаунт в [Streamlit Cloud](https://streamlit.io/cloud).\n",
        "*   Авторизуемся в Streamlit Cloud.\n",
        "*   Создаем новое приложение в Streamlit Cloud и подключаем GitHub-репозиторий.\n",
        "*   Deploy!\n",
        "\n",
        "Сдать в форму необходимо:\n",
        "1. Ссылку на развернутое в Streamlit Cloud приложение.\n",
        "2. Ссылку на код. Все выводы про, например, использование параллельности/асинхронности опишите в комментариях.\n",
        "\n",
        "Не забудьте удалить ключ API и иную чувствительную информацию.\n",
        "\n",
        "### Полезные ссылки\n",
        "*   [Оформление задачи Титаник на Streamlit](https://github.com/evgpat/streamlit_demo)\n",
        "*   [Документация Streamlit](https://docs.streamlit.io/)\n",
        "*   [Блог о Streamlit](https://blog.streamlit.io/)"
      ]
    },
    {
      "cell_type": "code",
      "execution_count": 1,
      "metadata": {},
      "outputs": [],
      "source": [
        "import pandas as pd\n",
        "import numpy as np\n",
        "from multiprocessing import Pool\n",
        "import time"
      ]
    },
    {
      "cell_type": "code",
      "execution_count": 2,
      "metadata": {
        "id": "SsrwTMhRj6dK"
      },
      "outputs": [],
      "source": [
        "\n",
        "\n",
        "# Реальные средние температуры (примерные данные) для городов по сезонам\n",
        "seasonal_temperatures = {\n",
        "    \"New York\": {\"winter\": 0, \"spring\": 10, \"summer\": 25, \"autumn\": 15},\n",
        "    \"London\": {\"winter\": 5, \"spring\": 11, \"summer\": 18, \"autumn\": 12},\n",
        "    \"Paris\": {\"winter\": 4, \"spring\": 12, \"summer\": 20, \"autumn\": 13},\n",
        "    \"Tokyo\": {\"winter\": 6, \"spring\": 15, \"summer\": 27, \"autumn\": 18},\n",
        "    \"Moscow\": {\"winter\": -10, \"spring\": 5, \"summer\": 18, \"autumn\": 8},\n",
        "    \"Sydney\": {\"winter\": 12, \"spring\": 18, \"summer\": 25, \"autumn\": 20},\n",
        "    \"Berlin\": {\"winter\": 0, \"spring\": 10, \"summer\": 20, \"autumn\": 11},\n",
        "    \"Beijing\": {\"winter\": -2, \"spring\": 13, \"summer\": 27, \"autumn\": 16},\n",
        "    \"Rio de Janeiro\": {\"winter\": 20, \"spring\": 25, \"summer\": 30, \"autumn\": 25},\n",
        "    \"Dubai\": {\"winter\": 20, \"spring\": 30, \"summer\": 40, \"autumn\": 30},\n",
        "    \"Los Angeles\": {\"winter\": 15, \"spring\": 18, \"summer\": 25, \"autumn\": 20},\n",
        "    \"Singapore\": {\"winter\": 27, \"spring\": 28, \"summer\": 28, \"autumn\": 27},\n",
        "    \"Mumbai\": {\"winter\": 25, \"spring\": 30, \"summer\": 35, \"autumn\": 30},\n",
        "    \"Cairo\": {\"winter\": 15, \"spring\": 25, \"summer\": 35, \"autumn\": 25},\n",
        "    \"Mexico City\": {\"winter\": 12, \"spring\": 18, \"summer\": 20, \"autumn\": 15},\n",
        "}\n",
        "\n",
        "# Сопоставление месяцев с сезонами\n",
        "month_to_season = {12: \"winter\", 1: \"winter\", 2: \"winter\",\n",
        "                   3: \"spring\", 4: \"spring\", 5: \"spring\",\n",
        "                   6: \"summer\", 7: \"summer\", 8: \"summer\",\n",
        "                   9: \"autumn\", 10: \"autumn\", 11: \"autumn\"}\n",
        "\n",
        "# Генерация данных о температуре\n",
        "def generate_realistic_temperature_data(cities, num_years=10):\n",
        "    dates = pd.date_range(start=\"2010-01-01\", periods=365 * num_years, freq=\"D\")\n",
        "    data = []\n",
        "\n",
        "    for city in cities:\n",
        "        for date in dates:\n",
        "            season = month_to_season[date.month]\n",
        "            mean_temp = seasonal_temperatures[city][season]\n",
        "            # Добавляем случайное отклонение\n",
        "            temperature = np.random.normal(loc=mean_temp, scale=5)\n",
        "            data.append({\"city\": city, \"timestamp\": date, \"temperature\": temperature})\n",
        "\n",
        "    df = pd.DataFrame(data)\n",
        "    df['season'] = df['timestamp'].dt.month.map(lambda x: month_to_season[x])\n",
        "    return df\n",
        "\n",
        "# Генерация данных\n",
        "data = generate_realistic_temperature_data(list(seasonal_temperatures.keys()))\n",
        "data.to_csv('temperature_data.csv', index=False)\n"
      ]
    },
    {
      "cell_type": "markdown",
      "metadata": {},
      "source": [
        "#### Загрузка данных"
      ]
    },
    {
      "cell_type": "code",
      "execution_count": 3,
      "metadata": {},
      "outputs": [],
      "source": [
        "df = pd.read_csv('temperature_data.csv')"
      ]
    },
    {
      "cell_type": "code",
      "execution_count": 4,
      "metadata": {},
      "outputs": [
        {
          "data": {
            "text/html": [
              "<div>\n",
              "<style scoped>\n",
              "    .dataframe tbody tr th:only-of-type {\n",
              "        vertical-align: middle;\n",
              "    }\n",
              "\n",
              "    .dataframe tbody tr th {\n",
              "        vertical-align: top;\n",
              "    }\n",
              "\n",
              "    .dataframe thead th {\n",
              "        text-align: right;\n",
              "    }\n",
              "</style>\n",
              "<table border=\"1\" class=\"dataframe\">\n",
              "  <thead>\n",
              "    <tr style=\"text-align: right;\">\n",
              "      <th></th>\n",
              "      <th>city</th>\n",
              "      <th>timestamp</th>\n",
              "      <th>temperature</th>\n",
              "      <th>season</th>\n",
              "    </tr>\n",
              "  </thead>\n",
              "  <tbody>\n",
              "    <tr>\n",
              "      <th>0</th>\n",
              "      <td>New York</td>\n",
              "      <td>2010-01-01</td>\n",
              "      <td>-0.190943</td>\n",
              "      <td>winter</td>\n",
              "    </tr>\n",
              "    <tr>\n",
              "      <th>1</th>\n",
              "      <td>New York</td>\n",
              "      <td>2010-01-02</td>\n",
              "      <td>6.328508</td>\n",
              "      <td>winter</td>\n",
              "    </tr>\n",
              "    <tr>\n",
              "      <th>2</th>\n",
              "      <td>New York</td>\n",
              "      <td>2010-01-03</td>\n",
              "      <td>3.077670</td>\n",
              "      <td>winter</td>\n",
              "    </tr>\n",
              "    <tr>\n",
              "      <th>3</th>\n",
              "      <td>New York</td>\n",
              "      <td>2010-01-04</td>\n",
              "      <td>-5.040710</td>\n",
              "      <td>winter</td>\n",
              "    </tr>\n",
              "    <tr>\n",
              "      <th>4</th>\n",
              "      <td>New York</td>\n",
              "      <td>2010-01-05</td>\n",
              "      <td>-0.205269</td>\n",
              "      <td>winter</td>\n",
              "    </tr>\n",
              "  </tbody>\n",
              "</table>\n",
              "</div>"
            ],
            "text/plain": [
              "       city   timestamp  temperature  season\n",
              "0  New York  2010-01-01    -0.190943  winter\n",
              "1  New York  2010-01-02     6.328508  winter\n",
              "2  New York  2010-01-03     3.077670  winter\n",
              "3  New York  2010-01-04    -5.040710  winter\n",
              "4  New York  2010-01-05    -0.205269  winter"
            ]
          },
          "execution_count": 4,
          "metadata": {},
          "output_type": "execute_result"
        }
      ],
      "source": [
        "df.head()"
      ]
    },
    {
      "cell_type": "code",
      "execution_count": 5,
      "metadata": {},
      "outputs": [
        {
          "name": "stdout",
          "output_type": "stream",
          "text": [
            "<class 'pandas.core.frame.DataFrame'>\n",
            "RangeIndex: 54750 entries, 0 to 54749\n",
            "Data columns (total 4 columns):\n",
            " #   Column       Non-Null Count  Dtype  \n",
            "---  ------       --------------  -----  \n",
            " 0   city         54750 non-null  object \n",
            " 1   timestamp    54750 non-null  object \n",
            " 2   temperature  54750 non-null  float64\n",
            " 3   season       54750 non-null  object \n",
            "dtypes: float64(1), object(3)\n",
            "memory usage: 1.7+ MB\n"
          ]
        }
      ],
      "source": [
        "df.info()"
      ]
    },
    {
      "cell_type": "markdown",
      "metadata": {},
      "source": [
        "Приведение типа"
      ]
    },
    {
      "cell_type": "code",
      "execution_count": 6,
      "metadata": {},
      "outputs": [],
      "source": [
        "df['timestamp'] = pd.to_datetime(df['timestamp'])"
      ]
    },
    {
      "cell_type": "markdown",
      "metadata": {},
      "source": [
        "#### Анализ исторических данных:\n",
        "Вычислим скользящее среднее температуры с окном в 30 дней для сглаживания краткосрочных колебаний."
      ]
    },
    {
      "cell_type": "code",
      "execution_count": 7,
      "metadata": {},
      "outputs": [
        {
          "data": {
            "text/html": [
              "<div>\n",
              "<style scoped>\n",
              "    .dataframe tbody tr th:only-of-type {\n",
              "        vertical-align: middle;\n",
              "    }\n",
              "\n",
              "    .dataframe tbody tr th {\n",
              "        vertical-align: top;\n",
              "    }\n",
              "\n",
              "    .dataframe thead th {\n",
              "        text-align: right;\n",
              "    }\n",
              "</style>\n",
              "<table border=\"1\" class=\"dataframe\">\n",
              "  <thead>\n",
              "    <tr style=\"text-align: right;\">\n",
              "      <th></th>\n",
              "      <th>city</th>\n",
              "      <th>timestamp</th>\n",
              "      <th>temperature</th>\n",
              "      <th>season</th>\n",
              "      <th>rolling_mean</th>\n",
              "      <th>rolling_std</th>\n",
              "    </tr>\n",
              "  </thead>\n",
              "  <tbody>\n",
              "    <tr>\n",
              "      <th>0</th>\n",
              "      <td>New York</td>\n",
              "      <td>2010-01-01</td>\n",
              "      <td>-0.190943</td>\n",
              "      <td>winter</td>\n",
              "      <td>-0.190943</td>\n",
              "      <td>NaN</td>\n",
              "    </tr>\n",
              "    <tr>\n",
              "      <th>1</th>\n",
              "      <td>New York</td>\n",
              "      <td>2010-01-02</td>\n",
              "      <td>6.328508</td>\n",
              "      <td>winter</td>\n",
              "      <td>3.068782</td>\n",
              "      <td>4.609948</td>\n",
              "    </tr>\n",
              "    <tr>\n",
              "      <th>2</th>\n",
              "      <td>New York</td>\n",
              "      <td>2010-01-03</td>\n",
              "      <td>3.077670</td>\n",
              "      <td>winter</td>\n",
              "      <td>3.071745</td>\n",
              "      <td>3.259730</td>\n",
              "    </tr>\n",
              "    <tr>\n",
              "      <th>3</th>\n",
              "      <td>New York</td>\n",
              "      <td>2010-01-04</td>\n",
              "      <td>-5.040710</td>\n",
              "      <td>winter</td>\n",
              "      <td>1.043631</td>\n",
              "      <td>4.851482</td>\n",
              "    </tr>\n",
              "    <tr>\n",
              "      <th>4</th>\n",
              "      <td>New York</td>\n",
              "      <td>2010-01-05</td>\n",
              "      <td>-0.205269</td>\n",
              "      <td>winter</td>\n",
              "      <td>0.793851</td>\n",
              "      <td>4.238467</td>\n",
              "    </tr>\n",
              "  </tbody>\n",
              "</table>\n",
              "</div>"
            ],
            "text/plain": [
              "       city  timestamp  temperature  season  rolling_mean  rolling_std\n",
              "0  New York 2010-01-01    -0.190943  winter     -0.190943          NaN\n",
              "1  New York 2010-01-02     6.328508  winter      3.068782     4.609948\n",
              "2  New York 2010-01-03     3.077670  winter      3.071745     3.259730\n",
              "3  New York 2010-01-04    -5.040710  winter      1.043631     4.851482\n",
              "4  New York 2010-01-05    -0.205269  winter      0.793851     4.238467"
            ]
          },
          "execution_count": 7,
          "metadata": {},
          "output_type": "execute_result"
        }
      ],
      "source": [
        "\n",
        "df['rolling_mean'] = df.groupby('city')['temperature'].transform(lambda x: x.rolling(window=30, min_periods=1).mean())\n",
        "df['rolling_std'] = df.groupby('city')['temperature'].transform(lambda x: x.rolling(window=30, min_periods=1).std())\n",
        "\n",
        "df.head()\n"
      ]
    },
    {
      "cell_type": "markdown",
      "metadata": {},
      "source": [
        "Определим аномалии, где температура выходит за пределы μ±2σ"
      ]
    },
    {
      "cell_type": "code",
      "execution_count": 8,
      "metadata": {},
      "outputs": [
        {
          "data": {
            "text/plain": [
              "(         city  timestamp  temperature  season  rolling_mean  rolling_std  \\\n",
              " 37   New York 2010-02-07   -14.457292  winter     -0.102538     5.540017   \n",
              " 53   New York 2010-02-23    -9.145326  winter      1.569920     5.345032   \n",
              " 67   New York 2010-03-09    22.252461  spring      3.658582     6.873122   \n",
              " 101  New York 2010-04-12    -2.936289  spring      9.075760     4.524732   \n",
              " 102  New York 2010-04-13    20.206849  spring      9.619540     4.849090   \n",
              " \n",
              "      is_anomaly  \n",
              " 37         True  \n",
              " 53         True  \n",
              " 67         True  \n",
              " 101        True  \n",
              " 102        True  ,\n",
              " city\n",
              " Beijing           246\n",
              " Berlin            190\n",
              " Cairo             195\n",
              " Dubai             184\n",
              " London            169\n",
              " Los Angeles       163\n",
              " Mexico City       137\n",
              " Moscow            223\n",
              " Mumbai            151\n",
              " New York          205\n",
              " Paris             185\n",
              " Rio de Janeiro    163\n",
              " Singapore         140\n",
              " Sydney            167\n",
              " Tokyo             211\n",
              " dtype: int64)"
            ]
          },
          "execution_count": 8,
          "metadata": {},
          "output_type": "execute_result"
        }
      ],
      "source": [
        "df['is_anomaly'] = abs(df['temperature'] - df['rolling_mean']) > 2 * df['rolling_std']\n",
        "\n",
        "anomalies = df[df['is_anomaly'] == True]\n",
        "anomalies_summary = anomalies.groupby('city').size()\n",
        "\n",
        "anomalies.head(), anomalies_summary\n"
      ]
    },
    {
      "cell_type": "markdown",
      "metadata": {},
      "source": [
        "- Скользящее среднее и стандартное отклонение\n",
        "- Сезонные средние температуры и стандартные отклонения\n",
        "- Аномалии"
      ]
    },
    {
      "cell_type": "code",
      "execution_count": 9,
      "metadata": {},
      "outputs": [
        {
          "name": "stdout",
          "output_type": "stream",
          "text": [
            " Seasonal Temperature Statistics:\n",
            "      city  season       mean       std\n",
            "0  Beijing  autumn  16.050208  4.884698\n",
            "1  Beijing  spring  13.047503  4.862101\n",
            "2  Beijing  summer  26.752764  4.932564\n",
            "3  Beijing  winter  -2.228545  4.977920\n",
            "4   Berlin  autumn  10.841633  4.831237\n",
            "\n",
            " Anomalies:\n",
            "        city  timestamp  temperature  season  rolling_mean  rolling_std  \\\n",
            "7   New York 2010-01-08   -10.318813  winter      0.395860     5.684307   \n",
            "23  New York 2010-01-24   -10.764878  winter     -0.845487     5.117778   \n",
            "37  New York 2010-02-07   -14.457292  winter     -0.102538     5.540017   \n",
            "44  New York 2010-02-14    10.984684  winter      1.071920     5.582400   \n",
            "67  New York 2010-03-09    22.252461  spring      3.658582     6.873122   \n",
            "\n",
            "    is_anomaly      mean       std  seasonal_anomaly  \n",
            "7        False  0.256214  5.015112              True  \n",
            "23       False  0.256214  5.015112              True  \n",
            "37        True  0.256214  5.015112              True  \n",
            "44       False  0.256214  5.015112              True  \n",
            "67        True  9.876620  5.115349              True  \n"
          ]
        }
      ],
      "source": [
        "seasonal_stats = df.groupby(['city', 'season'])['temperature'].agg(['mean', 'std']).reset_index()\n",
        "\n",
        "df = pd.merge(df, seasonal_stats, on=['city', 'season'], suffixes=('', '_season'))\n",
        "\n",
        "df['seasonal_anomaly'] = abs(df['temperature'] - df['mean']) > 2 * df['std']\n",
        "\n",
        "seasonal_anomalies = df[df['seasonal_anomaly'] == True]\n",
        "\n",
        "print(\" Seasonal Temperature Statistics:\")\n",
        "print(seasonal_stats.head())\n",
        "\n",
        "\n",
        "print(\"\\n Anomalies:\")\n",
        "print(seasonal_anomalies.head())\n"
      ]
    },
    {
      "cell_type": "code",
      "execution_count": 10,
      "metadata": {},
      "outputs": [],
      "source": [
        "import pandas as pd\n",
        "import time\n",
        "from multiprocessing import Pool\n",
        "\n",
        "def process_chunk(chunk):\n",
        "    chunk = chunk.copy()\n",
        "    chunk[\"roll_mean\"] = chunk[\"temperature\"].rolling(window=30, center=True).mean()\n",
        "    chunk[\"mean_season\"] = chunk.groupby(\"season\")[\"roll_mean\"].transform(\"mean\")\n",
        "    chunk[\"std_season\"] = chunk.groupby(\"season\")[\"temperature\"].transform(\"std\")\n",
        "    chunk[\"is_anomaly\"] = abs(chunk[\"temperature\"] - chunk[\"mean_season\"]) > 2 * chunk[\"std_season\"]\n",
        "    return chunk\n",
        "\n",
        "def parallel_apply(df, func, num_processes=2):\n",
        "    cities = df['city'].unique()\n",
        "    chunks = [df[df['city'] == city] for city in cities]\n",
        "\n",
        "    with Pool(num_processes) as pool:\n",
        "        results = pool.map(func, chunks)\n",
        "\n",
        "    return pd.concat(results)\n",
        "\n"
      ]
    },
    {
      "cell_type": "code",
      "execution_count": 11,
      "metadata": {},
      "outputs": [],
      "source": [
        "print(\"Последовательная обработка:\")\n",
        "start_time = time.time()\n",
        "result_sequential = pd.concat([\n",
        "    process_chunk(group) for _, group in df.groupby(\"city\")\n",
        "])\n",
        "sequential_time = time.time() - start_time\n",
        "print(f\"Время последовательной обработки: {sequential_time:.2f} секунд\")\n",
        "\n",
        "print(\"\\nПараллельная обработка:\")\n",
        "start_time = time.time()\n",
        "result_parallel = parallel_apply(df, process_chunk, num_processes=4)\n",
        "parallel_time = time.time() - start_time\n",
        "print(f\"Время параллельной обработки: {parallel_time:.2f} секунд\")"
      ]
    },
    {
      "cell_type": "code",
      "execution_count": 12,
      "metadata": {},
      "outputs": [
        {
          "name": "stdout",
          "output_type": "stream",
          "text": [
            "Время обработки данных: 0.55 с\n"
          ]
        }
      ],
      "source": [
        "from joblib import Parallel, delayed\n",
        "import pandas as pd\n",
        "import time\n",
        "\n",
        "def process_chunk(chunk):\n",
        "    chunk = chunk.copy()\n",
        "    chunk[\"roll_mean\"] = chunk[\"temperature\"].rolling(window=30, center=True).mean()\n",
        "    chunk[\"mean_season\"] = chunk.groupby([\"season\"])[\"roll_mean\"].transform(\"mean\")\n",
        "    chunk[\"std_season\"] = chunk.groupby([\"season\"])[\"temperature\"].transform(\"std\")\n",
        "    chunk[\"is_anomaly\"] = abs(chunk[\"temperature\"] - chunk[\"mean_season\"]) > 2 * chunk[\"std_season\"]\n",
        "    return chunk\n",
        "\n",
        "def parallel_apply_chunks(df, func, n_jobs=4):\n",
        "    cities = df['city'].unique()\n",
        "    chunks = [df[df['city'] == city] for city in cities]\n",
        "\n",
        "    results = Parallel(n_jobs=n_jobs)(delayed(func)(chunk) for chunk in chunks)\n",
        "    return pd.concat(results)\n",
        "\n",
        "start_time = time.time()\n",
        "result_df_joblib = parallel_apply_chunks(df, process_chunk)\n",
        "end_time = time.time()\n",
        "\n",
        "print(f\"Время обработки данных: {end_time - start_time:.2f} с\")"
      ]
    },
    {
      "cell_type": "markdown",
      "metadata": {},
      "source": [
        "Выигрыша от распараллеливания в данной задаче не наблюдается. Напротив, выполнение оказалось заметно медленнее. Это связано с накладными расходами на создание процессов и тем, что задача недостаточно ресурсоёмкая для получения преимущества от параллельной обработки"
      ]
    },
    {
      "cell_type": "markdown",
      "metadata": {},
      "source": [
        " #### график скользящего среднего температуры в Москве"
      ]
    },
    {
      "cell_type": "code",
      "execution_count": null,
      "metadata": {},
      "outputs": [
        {
          "data": {
            "image/png": "[encoded data removed]",
            "text/plain": [
              "<Figure size 1000x500 with 1 Axes>"
            ]
          },
          "metadata": {},
          "output_type": "display_data"
        }
      ],
      "source": [
        "if \"moving_avg\" not in df.columns:\n",
        "    df[\"moving_avg\"] = df.groupby(\"city\")[\"temperature\"].transform(lambda x: x.rolling(window=30, min_periods=1).mean())\n",
        "\n",
        "city = \"Moscow\"\n",
        "city_df = df[df[\"city\"] == city]\n",
        "\n",
        "plt.figure(figsize=(10, 5))\n",
        "plt.plot(city_df[\"timestamp\"], city_df[\"moving_avg\"], marker=\".\", linestyle=\"-\", color=\"g\", label=\"Температура\")\n",
        "\n",
        "plt.title(f\"Скользящее среднее температуры в {city}\", fontsize=14)\n",
        "plt.xlabel(\"Дата\", fontsize=12)\n",
        "plt.ylabel(\"Температура (°C)\", fontsize=12)\n",
        "plt.grid(True)\n",
        "plt.legend()\n",
        "plt.show()\n",
        "\n"
      ]
    },
    {
      "cell_type": "markdown",
      "metadata": {},
      "source": [
        "### 2. Мониторинг текущей температуры:\n",
        "Получим текущую температуру для Москвы через OpenWeatherMap API"
      ]
    },
    {
      "cell_type": "code",
      "execution_count": 18,
      "metadata": {},
      "outputs": [
        {
          "name": "stdout",
          "output_type": "stream",
          "text": [
            "Текущая температура в городе Moscow: -0.52°C\n"
          ]
        }
      ],
      "source": [
        "import requests\n",
        "\n",
        "def fetch_current_temperature(city_name, api_key):\n",
        "\n",
        "    base_url = \"https://api.openweathermap.org/data/2.5/weather\"\n",
        "    params = {\n",
        "        'q': city_name,\n",
        "        'appid': api_key,\n",
        "        'units': 'metric'\n",
        "    }\n",
        "\n",
        "    try:\n",
        "        response = requests.get(base_url, params=params)\n",
        "        response.raise_for_status()\n",
        "        data = response.json()\n",
        "        return data['main']['temp']\n",
        "    except requests.exceptions.RequestException as e:\n",
        "        print(f\"Ошибка запроса: {e}\")\n",
        "        return None\n",
        "    except KeyError:\n",
        "        print(\"Ошибка в ответе API\")\n",
        "        return None\n",
        "\n",
        "def analyze_current_temperature(city_name, api_key):\n",
        "    temperature = fetch_current_temperature(city_name, api_key)\n",
        "    if temperature is not None:\n",
        "        print(f\"Текущая температура в городе {city_name}: {temperature}°C\")\n",
        "    else:\n",
        "        print(f\"Не удалось получить данные о температуре для города {city_name}\")\n",
        "\n",
        "\n",
        "api_key = \"\"\n",
        "city_name = \"Moscow\"\n",
        "\n",
        "analyze_current_temperature(city_name, api_key)"
      ]
    },
    {
      "cell_type": "markdown",
      "metadata": {},
      "source": [
        "Определние нормальности температуры "
      ]
    },
    {
      "cell_type": "code",
      "execution_count": 19,
      "metadata": {},
      "outputs": [],
      "source": [
        "import pandas as pd\n",
        "\n",
        "def compare_temperature_to_historical(date, actual_temp, city, df):\n",
        "\n",
        "    date = pd.to_datetime(date)\n",
        "    city_data = df[(df['city'] == city) &\n",
        "                   (df['timestamp'].dt.month == date.month) &\n",
        "                   (df['timestamp'].dt.day == date.day) &\n",
        "                   (df['is_anomaly'] == False)]\n",
        "\n",
        "    if city_data.empty:\n",
        "        return f\"Нет данных для города {city} на дату {date.date()}\"\n",
        "\n",
        "    mean_temp = city_data['temperature'].median()\n",
        "    std_temp = city_data['temperature'].std()\n",
        "    deviation = actual_temp - mean_temp\n",
        "    z_score = deviation / std_temp if std_temp != 0 else float('inf')\n",
        "\n",
        "    if abs(z_score) < 1:\n",
        "        assessment = \"Температура в норме.\"\n",
        "    elif abs(z_score) < 2:\n",
        "        assessment = \"Температура немного отличается от нормы\"\n",
        "    else:\n",
        "        assessment = \"Температура сильно отличается от нормы\"\n",
        "\n",
        "    return (\n",
        "        f\"Город: {city}\\n\"\n",
        "        f\"Дата: {date.date()}\\n\"\n",
        "        f\"Фактическая температура: {actual_temp}°C\\n\"\n",
        "        f\"Средняя температура: {round(mean_temp, 2)}°C\\n\"\n",
        "        f\"Вывод: {assessment}\\n\")\n"
      ]
    },
    {
      "cell_type": "code",
      "execution_count": 23,
      "metadata": {},
      "outputs": [
        {
          "name": "stdout",
          "output_type": "stream",
          "text": [
            "Город: Moscow\n",
            "Дата: 2025-01-12\n",
            "Фактическая температура: -2.0°C\n",
            "Средняя температура: -9.7°C\n",
            "Вывод: Температура немного отличается от нормы.\n",
            "\n"
          ]
        }
      ],
      "source": [
        "def analyze_temperature_for_date_and_city(date, actual_temp, city_name, df):\n",
        "\n",
        "    result = compare_temperature_to_historical(date, actual_temp, city_name, df)\n",
        "    print(result)\n",
        "\n",
        "sample_date = \"2025-01-12\"\n",
        "sample_temp = -2.0  \n",
        "sample_city = \"Moscow\"\n",
        "\n",
        "analyze_temperature_for_date_and_city(sample_date, sample_temp, sample_city, df)"
      ]
    },
    {
      "cell_type": "markdown",
      "metadata": {},
      "source": [
        "Асинхронный метод получения текущей температуры"
      ]
    },
    {
      "cell_type": "code",
      "execution_count": 27,
      "metadata": {},
      "outputs": [
        {
          "name": "stdout",
          "output_type": "stream",
          "text": [
            "Текущая температура в городе Moscow: -0.52°C\n"
          ]
        }
      ],
      "source": [
        "import aiohttp\n",
        "import nest_asyncio\n",
        "import asyncio\n",
        "\n",
        "nest_asyncio.apply()\n",
        "\n",
        "async def fetch_current_temperature_async(city_name, api_key):\n",
        "\n",
        "    base_url = \"https://api.openweathermap.org/data/2.5/weather\"\n",
        "    params = {\n",
        "        'q': city_name,\n",
        "        'appid': api_key,\n",
        "        'units': 'metric'}\n",
        "\n",
        "    async with aiohttp.ClientSession() as session:\n",
        "        async with session.get(base_url, params=params) as response:\n",
        "            if response.status == 200:\n",
        "                data = await response.json()\n",
        "                return data['main']['temp']\n",
        "            else:\n",
        "                error_message = await response.json()\n",
        "                print(f\"Ошибка: {error_message.get('message', 'Неизвестная ошибка')}\")\n",
        "                return None\n",
        "\n",
        "async def analyze_temperature_async(city_name, api_key):\n",
        "\n",
        "    temperature = await fetch_current_temperature_async(city_name, api_key)\n",
        "    if temperature is not None:\n",
        "        print(f\"Текущая температура в городе {city_name}: {temperature}°C\")\n",
        "    else:\n",
        "        print(f\"Не удалось получить данные о температуре для города {city_name}.\")\n",
        "\n",
        "api_key = \"\"\n",
        "city_name = \"Moscow\"\n",
        "\n",
        "await analyze_temperature_async(city_name, api_key)"
      ]
    },
    {
      "cell_type": "markdown",
      "metadata": {},
      "source": [
        "Сравнение синхронного с асинхронным методом"
      ]
    },
    {
      "cell_type": "code",
      "execution_count": 28,
      "metadata": {},
      "outputs": [
        {
          "name": "stdout",
          "output_type": "stream",
          "text": [
            "Синхронный подход: 10.83 секунд\n",
            "Асинхронный подход: 0.88 секунд\n"
          ]
        }
      ],
      "source": [
        "import time\n",
        "import aiohttp\n",
        "import nest_asyncio\n",
        "import asyncio\n",
        "import requests\n",
        "\n",
        "\n",
        "nest_asyncio.apply()\n",
        "\n",
        "async def fetch_current_temperature_async(city_name, api_key):\n",
        "    base_url = \"https://api.openweathermap.org/data/2.5/weather\"\n",
        "    params = {\n",
        "        'q': city_name,\n",
        "        'appid': api_key,\n",
        "        'units': 'metric'}\n",
        "    async with aiohttp.ClientSession() as session:\n",
        "        async with session.get(base_url, params=params) as response:\n",
        "            if response.status == 200:\n",
        "                data = await response.json()\n",
        "                return data['main']['temp']\n",
        "            else:\n",
        "                return None\n",
        "\n",
        "async def analyze_temperature_async(city_name, api_key):\n",
        "    return await fetch_current_temperature_async(city_name, api_key)\n",
        "\n",
        "def fetch_current_temperature_sync(city_name, api_key):\n",
        "    base_url = \"https://api.openweathermap.org/data/2.5/weather\"\n",
        "    params = {\n",
        "        'q': city_name,\n",
        "        'appid': api_key,\n",
        "        'units': 'metric'}\n",
        "    response = requests.get(base_url, params=params)\n",
        "    if response.status_code == 200:\n",
        "        data = response.json()\n",
        "        return data['main']['temp']\n",
        "    else:\n",
        "        return None\n",
        "\n",
        "api_key = \"\"\n",
        "cities = [\"Moscow\", \"London\", \"Tokyo\", \"New York\", \"Berlin\"]\n",
        "\n",
        "start_sync = time.time()\n",
        "sync_results = [fetch_current_temperature_sync(city, api_key) for city in cities]\n",
        "end_sync = time.time()\n",
        "\n",
        "start_async = time.time()\n",
        "async def fetch_all_temperatures_async(cities, api_key):\n",
        "    tasks = [analyze_temperature_async(city, api_key) for city in cities]\n",
        "    return await asyncio.gather(*tasks)\n",
        "\n",
        "async_results = asyncio.run(fetch_all_temperatures_async(cities, api_key))\n",
        "end_async = time.time()\n",
        "\n",
        "print(f\"Синхронный подход: {end_sync - start_sync:.2f} секунд\")\n",
        "print(f\"Асинхронный подход: {end_async - start_async:.2f} секунд\")\n"
      ]
    },
    {
      "cell_type": "markdown",
      "metadata": {},
      "source": [
        "Вывод\n",
        "- Асинхронный подход значительно быстрее синхронного, так как запросы к API выполняются одновременно, а не последовательно.\n",
        "- Синхронный подход тратит время на ожидание ответа от каждого запроса, что замедляет общий процесс.\n",
        "- Разница особенно заметна при большом количестве запросов или высокой задержке сети."
      ]
    }
  ],
  "metadata": {
    "colab": {
      "provenance": []
    },
    "kernelspec": {
      "display_name": ".env",
      "language": "python",
      "name": "python3"
    },
    "language_info": {
      "codemirror_mode": {
        "name": "ipython",
        "version": 3
      },
      "file_extension": ".py",
      "mimetype": "text/x-python",
      "name": "python",
      "nbconvert_exporter": "python",
      "pygments_lexer": "ipython3",
      "version": "3.12.7"
    }
  },
  "nbformat": 4,
  "nbformat_minor": 0
}

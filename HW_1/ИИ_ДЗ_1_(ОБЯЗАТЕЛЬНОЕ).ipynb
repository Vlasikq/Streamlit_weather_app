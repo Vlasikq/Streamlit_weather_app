{
  "cells": [
    {
      "cell_type": "markdown",
      "metadata": {
        "id": "bVbHQbDDjw9i"
      },
      "source": [
        "## ДЗ 1 (ОБЯЗАТЕЛЬНОЕ): Анализ температурных данных и мониторинг текущей температуры через OpenWeatherMap API\n",
        "\n",
        "**Описание задания:**  \n",
        "Вы аналитик в компании, занимающейся изучением климатических изменений и мониторингом температур в разных городах. Вам нужно провести анализ исторических данных о температуре для выявления сезонных закономерностей и аномалий. Также необходимо подключить API OpenWeatherMap для получения текущей температуры в выбранных городах и сравнить её с историческими данными.\n",
        "\n",
        "\n",
        "### Цели задания:\n",
        "1. Провести **анализ временных рядов**, включая:\n",
        "   - Вычисление скользящего среднего и стандартного отклонения для сглаживания температурных колебаний.\n",
        "   - Определение аномалий на основе отклонений температуры от $ \\text{скользящее среднее} \\pm 2\\sigma $.\n",
        "   - Построение долгосрочных трендов изменения температуры.\n",
        "   - Любые дополнительные исследования будут вам в плюс.\n",
        "\n",
        "2. Осуществить **мониторинг текущей температуры**:\n",
        "   - Получить текущую температуру через OpenWeatherMap API.\n",
        "   - Сравнить её с историческим нормальным диапазоном для текущего сезона.\n",
        "\n",
        "3. Разработать **интерактивное приложение**:\n",
        "   - Дать пользователю возможность выбрать город.\n",
        "   - Отобразить результаты анализа температур, включая временные ряды, сезонные профили и аномалии.\n",
        "   - Провести анализ текущей температуры в контексте исторических данных.\n",
        "\n",
        "\n",
        "### Описание данных\n",
        "Исторические данные о температуре содержатся в файле `temperature_data.csv`, включают:\n",
        "  - `city`: Название города.\n",
        "  - `timestamp`: Дата (с шагом в 1 день).\n",
        "  - `temperature`: Среднесуточная температура (в °C).\n",
        "  - `season`: Сезон года (зима, весна, лето, осень).\n",
        "\n",
        "Код для генерации файла вы найдете ниже.\n",
        "\n",
        "### Этапы выполнения\n",
        "\n",
        "1. **Анализ исторических данных**:\n",
        "   - Вычислить **скользящее среднее** температуры с окном в 30 дней для сглаживания краткосрочных колебаний.\n",
        "   - Рассчитать среднюю температуру и стандартное отклонение для каждого сезона в каждом городе.\n",
        "   - Выявить аномалии, где температура выходит за пределы $ \\text{среднее} \\pm 2\\sigma $.\n",
        "   - Попробуйте распараллелить проведение этого анализа. Сравните скорость выполнения анализа с распараллеливанием и без него.\n",
        "\n",
        "2. **Мониторинг текущей температуры**:\n",
        "   - Подключить OpenWeatherMap API для получения текущей температуры города. Для получения API Key (бесплатно) надо зарегистрироваться на сайте. Обратите внимание, что API Key может активироваться только через 2-3 часа, это нормально. Посему получите ключ заранее.\n",
        "   - Получить текущую температуру для выбранного города через OpenWeatherMap API.\n",
        "   - Определить, является ли текущая температура нормальной, исходя из исторических данных для текущего сезона.\n",
        "   - Данные на самом деле не совсем реальные (сюрпрайз). Поэтому на момент эксперимента погода в Берлине, Каире и Дубае была в рамках нормы, а в Пекине и Москве аномальная. Протестируйте свое решение для разных городов.\n",
        "   - Попробуйте для получения текущей температуры использовать синхронные и асинхронные методы. Что здесь лучше использовать?\n",
        "\n",
        "3. **Создание приложения на Streamlit**:\n",
        "   - Добавить интерфейс для загрузки файла с историческими данными.\n",
        "   - Добавить интерфейс для выбора города (из выпадающего списка).\n",
        "   - Добавить форму для ввода API-ключа OpenWeatherMap. Когда он не введен, данные для текущей погоды не показываются. Если ключ некорректный, выведите на экран ошибку (должно приходить `{\"cod\":401, \"message\": \"Invalid API key. Please see https://openweathermap.org/faq#error401 for more info.\"}`).\n",
        "   - Отобразить:\n",
        "     - Описательную статистику по историческим данным для города, можно добавить визуализации.\n",
        "     - Временной ряд температур с выделением аномалий (например, точками другого цвета).\n",
        "     - Сезонные профили с указанием среднего и стандартного отклонения.\n",
        "   - Вывести текущую температуру через API и указать, нормальна ли она для сезона.\n",
        "\n",
        "### Критерии оценивания\n",
        "\n",
        "- Корректное проведение анализа данных – 1 балл.\n",
        "- Исследование распараллеливания анализа – 1 балл.\n",
        "- Корректный поиск аномалий – 1 балл.\n",
        "- Подключение к API и корректность выполнения запроса – 1 балл.\n",
        "- Проведение эксперимента с синхронным и асинхронным способом запроса к API – 1 балл.\n",
        "- Создание интерфейса приложения streamlit в соответствии с описанием – 3 балла.\n",
        "- Корректное отображение графиков и статистик, а также сезонных профилей – 1 балл.\n",
        "- Корректный вывод текущей температуры в выбранном городе и проведение проверки на ее аномальность – 1 балл.\n",
        "- Любая дополнительная функциональность приветствуется и оценивается бонусными баллами (не более 2 в сумме) на усмотрение проверяющего.\n",
        "\n",
        "### Формат сдачи домашнего задания\n",
        "\n",
        "Решение нужно развернуть в Streamlit Cloud (бесплатно)\n",
        "\n",
        "*   Создаем новый репозиторий на GitHub.  \n",
        "*   Загружаем проект.\n",
        "*   Создаем аккаунт в [Streamlit Cloud](https://streamlit.io/cloud).\n",
        "*   Авторизуемся в Streamlit Cloud.\n",
        "*   Создаем новое приложение в Streamlit Cloud и подключаем GitHub-репозиторий.\n",
        "*   Deploy!\n",
        "\n",
        "Сдать в форму необходимо:\n",
        "1. Ссылку на развернутое в Streamlit Cloud приложение.\n",
        "2. Ссылку на код. Все выводы про, например, использование параллельности/асинхронности опишите в комментариях.\n",
        "\n",
        "Не забудьте удалить ключ API и иную чувствительную информацию.\n",
        "\n",
        "### Полезные ссылки\n",
        "*   [Оформление задачи Титаник на Streamlit](https://github.com/evgpat/streamlit_demo)\n",
        "*   [Документация Streamlit](https://docs.streamlit.io/)\n",
        "*   [Блог о Streamlit](https://blog.streamlit.io/)"
      ]
    },
    {
      "cell_type": "code",
      "execution_count": 3,
      "metadata": {},
      "outputs": [],
      "source": [
        "import pandas as pd\n",
        "import numpy as np\n",
        "from multiprocessing import Pool\n",
        "import time"
      ]
    },
    {
      "cell_type": "code",
      "execution_count": 4,
      "metadata": {
        "id": "SsrwTMhRj6dK"
      },
      "outputs": [],
      "source": [
        "\n",
        "\n",
        "# Реальные средние температуры (примерные данные) для городов по сезонам\n",
        "seasonal_temperatures = {\n",
        "    \"New York\": {\"winter\": 0, \"spring\": 10, \"summer\": 25, \"autumn\": 15},\n",
        "    \"London\": {\"winter\": 5, \"spring\": 11, \"summer\": 18, \"autumn\": 12},\n",
        "    \"Paris\": {\"winter\": 4, \"spring\": 12, \"summer\": 20, \"autumn\": 13},\n",
        "    \"Tokyo\": {\"winter\": 6, \"spring\": 15, \"summer\": 27, \"autumn\": 18},\n",
        "    \"Moscow\": {\"winter\": -10, \"spring\": 5, \"summer\": 18, \"autumn\": 8},\n",
        "    \"Sydney\": {\"winter\": 12, \"spring\": 18, \"summer\": 25, \"autumn\": 20},\n",
        "    \"Berlin\": {\"winter\": 0, \"spring\": 10, \"summer\": 20, \"autumn\": 11},\n",
        "    \"Beijing\": {\"winter\": -2, \"spring\": 13, \"summer\": 27, \"autumn\": 16},\n",
        "    \"Rio de Janeiro\": {\"winter\": 20, \"spring\": 25, \"summer\": 30, \"autumn\": 25},\n",
        "    \"Dubai\": {\"winter\": 20, \"spring\": 30, \"summer\": 40, \"autumn\": 30},\n",
        "    \"Los Angeles\": {\"winter\": 15, \"spring\": 18, \"summer\": 25, \"autumn\": 20},\n",
        "    \"Singapore\": {\"winter\": 27, \"spring\": 28, \"summer\": 28, \"autumn\": 27},\n",
        "    \"Mumbai\": {\"winter\": 25, \"spring\": 30, \"summer\": 35, \"autumn\": 30},\n",
        "    \"Cairo\": {\"winter\": 15, \"spring\": 25, \"summer\": 35, \"autumn\": 25},\n",
        "    \"Mexico City\": {\"winter\": 12, \"spring\": 18, \"summer\": 20, \"autumn\": 15},\n",
        "}\n",
        "\n",
        "# Сопоставление месяцев с сезонами\n",
        "month_to_season = {12: \"winter\", 1: \"winter\", 2: \"winter\",\n",
        "                   3: \"spring\", 4: \"spring\", 5: \"spring\",\n",
        "                   6: \"summer\", 7: \"summer\", 8: \"summer\",\n",
        "                   9: \"autumn\", 10: \"autumn\", 11: \"autumn\"}\n",
        "\n",
        "# Генерация данных о температуре\n",
        "def generate_realistic_temperature_data(cities, num_years=10):\n",
        "    dates = pd.date_range(start=\"2010-01-01\", periods=365 * num_years, freq=\"D\")\n",
        "    data = []\n",
        "\n",
        "    for city in cities:\n",
        "        for date in dates:\n",
        "            season = month_to_season[date.month]\n",
        "            mean_temp = seasonal_temperatures[city][season]\n",
        "            # Добавляем случайное отклонение\n",
        "            temperature = np.random.normal(loc=mean_temp, scale=5)\n",
        "            data.append({\"city\": city, \"timestamp\": date, \"temperature\": temperature})\n",
        "\n",
        "    df = pd.DataFrame(data)\n",
        "    df['season'] = df['timestamp'].dt.month.map(lambda x: month_to_season[x])\n",
        "    return df\n",
        "\n",
        "# Генерация данных\n",
        "data = generate_realistic_temperature_data(list(seasonal_temperatures.keys()))\n",
        "data.to_csv('temperature_data.csv', index=False)\n"
      ]
    },
    {
      "cell_type": "markdown",
      "metadata": {},
      "source": [
        "# Загрузка данных"
      ]
    },
    {
      "cell_type": "code",
      "execution_count": 5,
      "metadata": {},
      "outputs": [],
      "source": [
        "df = pd.read_csv('temperature_data.csv')"
      ]
    },
    {
      "cell_type": "code",
      "execution_count": 6,
      "metadata": {},
      "outputs": [
        {
          "data": {
            "text/html": [
              "<div>\n",
              "<style scoped>\n",
              "    .dataframe tbody tr th:only-of-type {\n",
              "        vertical-align: middle;\n",
              "    }\n",
              "\n",
              "    .dataframe tbody tr th {\n",
              "        vertical-align: top;\n",
              "    }\n",
              "\n",
              "    .dataframe thead th {\n",
              "        text-align: right;\n",
              "    }\n",
              "</style>\n",
              "<table border=\"1\" class=\"dataframe\">\n",
              "  <thead>\n",
              "    <tr style=\"text-align: right;\">\n",
              "      <th></th>\n",
              "      <th>city</th>\n",
              "      <th>timestamp</th>\n",
              "      <th>temperature</th>\n",
              "      <th>season</th>\n",
              "    </tr>\n",
              "  </thead>\n",
              "  <tbody>\n",
              "    <tr>\n",
              "      <th>0</th>\n",
              "      <td>New York</td>\n",
              "      <td>2010-01-01</td>\n",
              "      <td>6.882167</td>\n",
              "      <td>winter</td>\n",
              "    </tr>\n",
              "    <tr>\n",
              "      <th>1</th>\n",
              "      <td>New York</td>\n",
              "      <td>2010-01-02</td>\n",
              "      <td>-5.137642</td>\n",
              "      <td>winter</td>\n",
              "    </tr>\n",
              "    <tr>\n",
              "      <th>2</th>\n",
              "      <td>New York</td>\n",
              "      <td>2010-01-03</td>\n",
              "      <td>-0.830522</td>\n",
              "      <td>winter</td>\n",
              "    </tr>\n",
              "    <tr>\n",
              "      <th>3</th>\n",
              "      <td>New York</td>\n",
              "      <td>2010-01-04</td>\n",
              "      <td>-6.848073</td>\n",
              "      <td>winter</td>\n",
              "    </tr>\n",
              "    <tr>\n",
              "      <th>4</th>\n",
              "      <td>New York</td>\n",
              "      <td>2010-01-05</td>\n",
              "      <td>7.755222</td>\n",
              "      <td>winter</td>\n",
              "    </tr>\n",
              "  </tbody>\n",
              "</table>\n",
              "</div>"
            ],
            "text/plain": [
              "       city   timestamp  temperature  season\n",
              "0  New York  2010-01-01     6.882167  winter\n",
              "1  New York  2010-01-02    -5.137642  winter\n",
              "2  New York  2010-01-03    -0.830522  winter\n",
              "3  New York  2010-01-04    -6.848073  winter\n",
              "4  New York  2010-01-05     7.755222  winter"
            ]
          },
          "execution_count": 6,
          "metadata": {},
          "output_type": "execute_result"
        }
      ],
      "source": [
        "df.head()"
      ]
    },
    {
      "cell_type": "code",
      "execution_count": 7,
      "metadata": {},
      "outputs": [
        {
          "name": "stdout",
          "output_type": "stream",
          "text": [
            "<class 'pandas.core.frame.DataFrame'>\n",
            "RangeIndex: 54750 entries, 0 to 54749\n",
            "Data columns (total 4 columns):\n",
            " #   Column       Non-Null Count  Dtype  \n",
            "---  ------       --------------  -----  \n",
            " 0   city         54750 non-null  object \n",
            " 1   timestamp    54750 non-null  object \n",
            " 2   temperature  54750 non-null  float64\n",
            " 3   season       54750 non-null  object \n",
            "dtypes: float64(1), object(3)\n",
            "memory usage: 1.7+ MB\n"
          ]
        }
      ],
      "source": [
        "df.info()"
      ]
    },
    {
      "cell_type": "markdown",
      "metadata": {},
      "source": [
        "# Приведение типа"
      ]
    },
    {
      "cell_type": "code",
      "execution_count": 8,
      "metadata": {},
      "outputs": [],
      "source": [
        "df['timestamp'] = pd.to_datetime(df['timestamp'])"
      ]
    },
    {
      "cell_type": "markdown",
      "metadata": {},
      "source": [
        "# Анализ исторических данных:\n",
        "Вычислим скользящее среднее температуры с окном в 30 дней для сглаживания краткосрочных колебаний."
      ]
    },
    {
      "cell_type": "code",
      "execution_count": 9,
      "metadata": {},
      "outputs": [
        {
          "data": {
            "text/html": [
              "<div>\n",
              "<style scoped>\n",
              "    .dataframe tbody tr th:only-of-type {\n",
              "        vertical-align: middle;\n",
              "    }\n",
              "\n",
              "    .dataframe tbody tr th {\n",
              "        vertical-align: top;\n",
              "    }\n",
              "\n",
              "    .dataframe thead th {\n",
              "        text-align: right;\n",
              "    }\n",
              "</style>\n",
              "<table border=\"1\" class=\"dataframe\">\n",
              "  <thead>\n",
              "    <tr style=\"text-align: right;\">\n",
              "      <th></th>\n",
              "      <th>city</th>\n",
              "      <th>timestamp</th>\n",
              "      <th>temperature</th>\n",
              "      <th>season</th>\n",
              "      <th>rolling_mean</th>\n",
              "      <th>rolling_std</th>\n",
              "    </tr>\n",
              "  </thead>\n",
              "  <tbody>\n",
              "    <tr>\n",
              "      <th>0</th>\n",
              "      <td>New York</td>\n",
              "      <td>2010-01-01</td>\n",
              "      <td>6.882167</td>\n",
              "      <td>winter</td>\n",
              "      <td>6.882167</td>\n",
              "      <td>NaN</td>\n",
              "    </tr>\n",
              "    <tr>\n",
              "      <th>1</th>\n",
              "      <td>New York</td>\n",
              "      <td>2010-01-02</td>\n",
              "      <td>-5.137642</td>\n",
              "      <td>winter</td>\n",
              "      <td>0.872263</td>\n",
              "      <td>8.499288</td>\n",
              "    </tr>\n",
              "    <tr>\n",
              "      <th>2</th>\n",
              "      <td>New York</td>\n",
              "      <td>2010-01-03</td>\n",
              "      <td>-0.830522</td>\n",
              "      <td>winter</td>\n",
              "      <td>0.304668</td>\n",
              "      <td>6.089782</td>\n",
              "    </tr>\n",
              "    <tr>\n",
              "      <th>3</th>\n",
              "      <td>New York</td>\n",
              "      <td>2010-01-04</td>\n",
              "      <td>-6.848073</td>\n",
              "      <td>winter</td>\n",
              "      <td>-1.483517</td>\n",
              "      <td>6.124872</td>\n",
              "    </tr>\n",
              "    <tr>\n",
              "      <th>4</th>\n",
              "      <td>New York</td>\n",
              "      <td>2010-01-05</td>\n",
              "      <td>7.755222</td>\n",
              "      <td>winter</td>\n",
              "      <td>0.364231</td>\n",
              "      <td>6.723571</td>\n",
              "    </tr>\n",
              "  </tbody>\n",
              "</table>\n",
              "</div>"
            ],
            "text/plain": [
              "       city  timestamp  temperature  season  rolling_mean  rolling_std\n",
              "0  New York 2010-01-01     6.882167  winter      6.882167          NaN\n",
              "1  New York 2010-01-02    -5.137642  winter      0.872263     8.499288\n",
              "2  New York 2010-01-03    -0.830522  winter      0.304668     6.089782\n",
              "3  New York 2010-01-04    -6.848073  winter     -1.483517     6.124872\n",
              "4  New York 2010-01-05     7.755222  winter      0.364231     6.723571"
            ]
          },
          "execution_count": 9,
          "metadata": {},
          "output_type": "execute_result"
        }
      ],
      "source": [
        "\n",
        "df['rolling_mean'] = df.groupby('city')['temperature'].transform(lambda x: x.rolling(window=30, min_periods=1).mean())\n",
        "df['rolling_std'] = df.groupby('city')['temperature'].transform(lambda x: x.rolling(window=30, min_periods=1).std())\n",
        "\n",
        "df.head()\n"
      ]
    },
    {
      "cell_type": "markdown",
      "metadata": {},
      "source": [
        "Теперь определим аномалии, где температура выходит за пределы μ±2σ"
      ]
    },
    {
      "cell_type": "code",
      "execution_count": 10,
      "metadata": {},
      "outputs": [
        {
          "data": {
            "text/plain": [
              "(        city  timestamp  temperature  season  rolling_mean  rolling_std  \\\n",
              " 43  New York 2010-02-13    -8.241209  winter      0.717485     4.206392   \n",
              " 59  New York 2010-03-01     9.995066  spring      0.295167     4.655158   \n",
              " 61  New York 2010-03-03    14.379407  spring      1.102487     5.528014   \n",
              " 64  New York 2010-03-06    14.077254  spring      1.980958     5.953004   \n",
              " 66  New York 2010-03-08    19.298444  spring      2.742189     6.633341   \n",
              " \n",
              "     is_anomaly  \n",
              " 43        True  \n",
              " 59        True  \n",
              " 61        True  \n",
              " 64        True  \n",
              " 66        True  ,\n",
              " city\n",
              " Beijing           239\n",
              " Berlin            194\n",
              " Cairo             185\n",
              " Dubai             214\n",
              " London            161\n",
              " Los Angeles       178\n",
              " Mexico City       143\n",
              " Moscow            228\n",
              " Mumbai            157\n",
              " New York          209\n",
              " Paris             197\n",
              " Rio de Janeiro    164\n",
              " Singapore         149\n",
              " Sydney            169\n",
              " Tokyo             189\n",
              " dtype: int64)"
            ]
          },
          "execution_count": 10,
          "metadata": {},
          "output_type": "execute_result"
        }
      ],
      "source": [
        "df['is_anomaly'] = abs(df['temperature'] - df['rolling_mean']) > 2 * df['rolling_std']\n",
        "\n",
        "anomalies = df[df['is_anomaly'] == True]\n",
        "anomalies_summary = anomalies.groupby('city').size()\n",
        "\n",
        "anomalies.head(), anomalies_summary\n"
      ]
    },
    {
      "cell_type": "markdown",
      "metadata": {},
      "source": [
        "- Скользящее среднее и стандартное отклонение\n",
        "- Сезонные средние температуры и стандартные отклонения\n",
        "- Аномалии"
      ]
    },
    {
      "cell_type": "code",
      "execution_count": 11,
      "metadata": {},
      "outputs": [
        {
          "name": "stdout",
          "output_type": "stream",
          "text": [
            " Seasonal Temperature Statistics:\n",
            "      city  season       mean       std\n",
            "0  Beijing  autumn  16.045746  4.868950\n",
            "1  Beijing  spring  13.348723  5.212440\n",
            "2  Beijing  summer  26.926635  5.030811\n",
            "3  Beijing  winter  -1.985699  4.892709\n",
            "4   Berlin  autumn  10.961984  5.095462\n",
            "\n",
            " Anomalies:\n",
            "         city  timestamp  temperature  season  rolling_mean  rolling_std  \\\n",
            "203  New York 2010-07-23    15.127766  summer     25.234068     3.772708   \n",
            "308  New York 2010-11-05    25.267027  autumn     15.567173     5.044490   \n",
            "331  New York 2010-11-28    25.168107  autumn     15.581902     4.976478   \n",
            "337  New York 2010-12-04    -9.895790  winter     12.558730     8.371146   \n",
            "344  New York 2010-12-11     9.970804  winter      9.473060     9.191552   \n",
            "\n",
            "     is_anomaly       mean       std  seasonal_anomaly  \n",
            "203        True  25.096202  4.930429              True  \n",
            "308       False  14.856676  5.018620              True  \n",
            "331       False  14.856676  5.018620              True  \n",
            "337        True  -0.127094  4.878538              True  \n",
            "344       False  -0.127094  4.878538              True  \n"
          ]
        }
      ],
      "source": [
        "seasonal_stats = df.groupby(['city', 'season'])['temperature'].agg(['mean', 'std']).reset_index()\n",
        "\n",
        "df = pd.merge(df, seasonal_stats, on=['city', 'season'], suffixes=('', '_season'))\n",
        "\n",
        "df['seasonal_anomaly'] = abs(df['temperature'] - df['mean']) > 2 * df['std']\n",
        "\n",
        "seasonal_anomalies = df[df['seasonal_anomaly'] == True]\n",
        "\n",
        "print(\" Seasonal Temperature Statistics:\")\n",
        "print(seasonal_stats.head())\n",
        "\n",
        "\n",
        "print(\"\\n Anomalies:\")\n",
        "print(seasonal_anomalies.head())\n"
      ]
    },
    {
      "cell_type": "code",
      "execution_count": 12,
      "metadata": {},
      "outputs": [],
      "source": [
        "import pandas as pd\n",
        "import time\n",
        "from multiprocessing import Pool\n",
        "\n",
        "# Функция для обработки одной части DataFrame\n",
        "def process_chunk(chunk):\n",
        "    \"\"\"\n",
        "    Обрабатывает часть данных: расчёт скользящего среднего, сезонных характеристик и аномалий.\n",
        "    \"\"\"\n",
        "    chunk = chunk.copy()\n",
        "    chunk[\"roll_mean\"] = chunk[\"temperature\"].rolling(window=30, center=True).mean()\n",
        "    chunk[\"mean_season\"] = chunk.groupby(\"season\")[\"roll_mean\"].transform(\"mean\")\n",
        "    chunk[\"std_season\"] = chunk.groupby(\"season\")[\"temperature\"].transform(\"std\")\n",
        "    chunk[\"is_anomaly\"] = abs(chunk[\"temperature\"] - chunk[\"mean_season\"]) > 2 * chunk[\"std_season\"]\n",
        "    return chunk\n",
        "\n",
        "# Разделение DataFrame на части и параллельная обработка\n",
        "def parallel_apply(df, func, num_processes=2):\n",
        "    \"\"\"\n",
        "    Выполняет параллельную обработку DataFrame, разбивая его по городам.\n",
        "    \"\"\"\n",
        "    # Разделяем данные по городам\n",
        "    cities = df['city'].unique()\n",
        "    chunks = [df[df['city'] == city] for city in cities]\n",
        "\n",
        "    # Используем Pool для параллельной обработки\n",
        "    with Pool(num_processes) as pool:\n",
        "        results = pool.map(func, chunks)\n",
        "\n",
        "    # Объединяем результаты\n",
        "    return pd.concat(results)\n",
        "\n"
      ]
    },
    {
      "cell_type": "code",
      "execution_count": null,
      "metadata": {},
      "outputs": [
        {
          "name": "stdout",
          "output_type": "stream",
          "text": [
            "Последовательная обработка:\n",
            "Время последовательной обработки: 0.04 секунд\n",
            "\n",
            "Параллельная обработка:\n"
          ]
        }
      ],
      "source": [
        "\n",
        "print(\"Последовательная обработка:\")\n",
        "start_time = time.time()\n",
        "result_sequential = pd.concat([\n",
        "    process_chunk(group) for _, group in df.groupby(\"city\")\n",
        "])\n",
        "sequential_time = time.time() - start_time\n",
        "print(f\"Время последовательной обработки: {sequential_time:.2f} секунд\")\n",
        "\n",
        "# Параллельная обработка\n",
        "print(\"\\nПараллельная обработка:\")\n",
        "start_time = time.time()\n",
        "result_parallel = parallel_apply(df, process_chunk, num_processes=4)  # Используем 4 процесса\n",
        "parallel_time = time.time() - start_time\n",
        "print(f\"Время параллельной обработки: {parallel_time:.2f} секунд\")"
      ]
    },
    {
      "cell_type": "code",
      "execution_count": null,
      "metadata": {},
      "outputs": [],
      "source": []
    }
  ],
  "metadata": {
    "colab": {
      "provenance": []
    },
    "kernelspec": {
      "display_name": ".env",
      "language": "python",
      "name": "python3"
    },
    "language_info": {
      "codemirror_mode": {
        "name": "ipython",
        "version": 3
      },
      "file_extension": ".py",
      "mimetype": "text/x-python",
      "name": "python",
      "nbconvert_exporter": "python",
      "pygments_lexer": "ipython3",
      "version": "3.12.7"
    }
  },
  "nbformat": 4,
  "nbformat_minor": 0
}
